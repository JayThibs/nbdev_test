{
 "cells": [
  {
   "cell_type": "markdown",
   "metadata": {},
   "source": [
    "This is the first notebook you will be working with. Start here and then move on to `index` where you can build the main documentation."
   ]
  },
  {
   "cell_type": "code",
   "execution_count": null,
   "metadata": {},
   "outputs": [],
   "source": [
    "# default_exp core"
   ]
  },
  {
   "cell_type": "markdown",
   "metadata": {},
   "source": [
    "^^ This the module name. It will be a module of our python package (which is the project). You have to name your notebook the same way as the module name. So, if you have `00_core`, you should also use `core` for your module name.\n",
    "\n",
    "In settings.ini, we wrote: `lib_name = nbdev_test`\n",
    "\n",
    "This is the name of the module. So, if we want to import this notebook, we have to do: `import nbdev_test.core`\n",
    "\n",
    "*To spell it out*: The project becomes a Python Package and each notebook becomes a Python Module. You can create submodules as well by simply writing something like `# default_exp core.sub_core`.\n",
    "\n",
    "* `# default_exp`: goes into package and docs.\n",
    "* `# hide`: goes into neither.\n",
    "* No tags: goes into the docs.\n",
    "* `exports`: Means \"Export and Show\". So, it will export but also show the source code on the documentation website."
   ]
  },
  {
   "cell_type": "markdown",
   "metadata": {},
   "source": [
    "# nbdev_core\n",
    "\n",
    "> API details."
   ]
  },
  {
   "cell_type": "markdown",
   "metadata": {},
   "source": [
    "Next, we import the files we want to import.\n",
    "\n",
    "We include the #hide tag to hide everything in the cell from showing up in the html version of this notebook."
   ]
  },
  {
   "cell_type": "code",
   "execution_count": null,
   "metadata": {},
   "outputs": [],
   "source": [
    "#hide\n",
    "from nbdev.showdoc import *\n",
    "from fastcore.test import *"
   ]
  },
  {
   "cell_type": "markdown",
   "metadata": {},
   "source": [
    "We will be importing fastcore.test next to do a test. We can put the #hide tag to hide certain cells from the html page that will be created."
   ]
  },
  {
   "cell_type": "code",
   "execution_count": null,
   "metadata": {},
   "outputs": [],
   "source": [
    "#export\n",
    "def say_hello(to):\n",
    "    \"Say hello to somebody\"\n",
    "    return f'Hello {to}!'"
   ]
  },
  {
   "cell_type": "markdown",
   "metadata": {},
   "source": [
    "[comment] We can use this to day hello to anyone at all, but let's start with Sylvain."
   ]
  },
  {
   "cell_type": "code",
   "execution_count": null,
   "metadata": {},
   "outputs": [
    {
     "data": {
      "text/plain": [
       "'Hello Sylvain!'"
      ]
     },
     "execution_count": null,
     "metadata": {},
     "output_type": "execute_result"
    }
   ],
   "source": [
    "say_hello(\"Sylvain\")"
   ]
  },
  {
   "cell_type": "markdown",
   "metadata": {},
   "source": [
    "Let's use a unit test to see if we are getting the output we need:"
   ]
  },
  {
   "cell_type": "code",
   "execution_count": null,
   "metadata": {},
   "outputs": [],
   "source": [
    "test_eq(say_hello(\"Jeremy\"), \"Hello Jeremy!\")"
   ]
  },
  {
   "cell_type": "markdown",
   "metadata": {},
   "source": [
    "Nothing shows up, that means it has passed the test! It's useful to leave these tests in the notebook because people can quickly see what needs to happen."
   ]
  },
  {
   "cell_type": "markdown",
   "metadata": {},
   "source": [
    "Now that you've created a module called \"core\" with this notebook, you need to run something in the command line to create the python module and allow you to import the module in other notebooks.\n",
    "\n",
    "Run in terminal: `nbdev_build_lib`\n",
    "\n",
    "This will convert all jupyter notebooks into a python module that fits within a python package. Before you can run new modules in another notebook, you will need to rerun this code in the command line.\n",
    "\n",
    "`nbdev_build_lib` will create a new folder that contains the converted jupyter notebook files (into python modules)."
   ]
  },
  {
   "cell_type": "code",
   "execution_count": null,
   "metadata": {},
   "outputs": [],
   "source": []
  }
 ],
 "metadata": {
  "kernelspec": {
   "display_name": "Python 3",
   "language": "python",
   "name": "python3"
  }
 },
 "nbformat": 4,
 "nbformat_minor": 2
}
